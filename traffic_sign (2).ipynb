{
 "cells": [
  {
   "cell_type": "code",
   "execution_count": 2,
   "metadata": {
    "id": "7oRY1aN9S_UX"
   },
   "outputs": [],
   "source": [
    "import numpy as np \n",
    "import pandas as pd \n",
    "import matplotlib.pyplot as plt\n",
    "import cv2\n",
    "import tensorflow as tf\n",
    "from PIL import Image\n",
    "import os\n",
    "from sklearn.model_selection import train_test_split\n",
    "from tensorflow.keras.utils import to_categorical\n",
    "from tensorflow.keras.models import Sequential, load_model\n",
    "from tensorflow.keras.layers import Conv2D, MaxPool2D, Dense, Flatten, Dropout"
   ]
  },
  {
   "cell_type": "markdown",
   "metadata": {
    "id": "P5gVKnexUIrl"
   },
   "source": [
    "### Load Data and Labels"
   ]
  },
  {
   "cell_type": "code",
   "execution_count": 3,
   "metadata": {
    "id": "JWwlrWU_UPag"
   },
   "outputs": [],
   "source": [
    "data = np.load('/content/drive/MyDrive/Colab Notebooks/training/data.npy')\n",
    "labels = np.load('/content/drive/MyDrive/Colab Notebooks/training/target.npy')"
   ]
  },
  {
   "cell_type": "code",
   "execution_count": 4,
   "metadata": {
    "colab": {
     "base_uri": "https://localhost:8080/"
    },
    "id": "C7DWAlo6UkdH",
    "outputId": "6b8a6009-9d21-4843-e7eb-d0aeca5bd20b"
   },
   "outputs": [
    {
     "name": "stdout",
     "output_type": "stream",
     "text": [
      "(39209, 30, 30, 3) (39209,)\n"
     ]
    }
   ],
   "source": [
    "print(data.shape, labels.shape)"
   ]
  },
  {
   "cell_type": "markdown",
   "metadata": {
    "id": "De08tPUYU_e9"
   },
   "source": [
    "### Splitting training and testing dataset\n"
   ]
  },
  {
   "cell_type": "code",
   "execution_count": 5,
   "metadata": {
    "id": "DKWlmS_5VFZ_"
   },
   "outputs": [],
   "source": [
    "X_train, X_test, y_train, y_test = train_test_split(data, labels, test_size=0.2, random_state=0)"
   ]
  },
  {
   "cell_type": "code",
   "execution_count": 6,
   "metadata": {
    "colab": {
     "base_uri": "https://localhost:8080/"
    },
    "id": "2zfVCd09VMZ-",
    "outputId": "df7a90ad-c352-445f-f82b-f0810ac9465b"
   },
   "outputs": [
    {
     "name": "stdout",
     "output_type": "stream",
     "text": [
      "(31367, 30, 30, 3) (7842, 30, 30, 3) (31367,) (7842,)\n"
     ]
    }
   ],
   "source": [
    "print(X_train.shape, X_test.shape, y_train.shape, y_test.shape)"
   ]
  },
  {
   "cell_type": "markdown",
   "metadata": {
    "id": "EJLwg7nvVbPe"
   },
   "source": [
    "### Converting labels to onehot encoding"
   ]
  },
  {
   "cell_type": "code",
   "execution_count": 7,
   "metadata": {
    "id": "wZMns9vyVjba"
   },
   "outputs": [],
   "source": [
    "y_train = to_categorical(y_train, 43)\n",
    "y_test = to_categorical(y_test, 43)"
   ]
  },
  {
   "cell_type": "markdown",
   "metadata": {
    "id": "daKHrzcUVxZP"
   },
   "source": [
    "### Building the model"
   ]
  },
  {
   "cell_type": "code",
   "execution_count": 8,
   "metadata": {
    "id": "w_EBxuvMV3Hd"
   },
   "outputs": [],
   "source": [
    "model = Sequential()\n",
    "model.add(Conv2D(filters=32, kernel_size=(5,5), activation='relu', input_shape=X_train.shape[1:]))\n",
    "model.add(Conv2D(filters=32, kernel_size=(5,5), activation='relu'))\n",
    "model.add(MaxPool2D(pool_size=(2, 2)))\n",
    "model.add(Dropout(rate=0.25))\n",
    "model.add(Conv2D(filters=64, kernel_size=(3, 3), activation='relu'))\n",
    "model.add(Conv2D(filters=64, kernel_size=(3, 3), activation='relu'))\n",
    "model.add(MaxPool2D(pool_size=(2, 2)))\n",
    "model.add(Dropout(rate=0.25))\n",
    "model.add(Flatten())\n",
    "model.add(Dense(256, activation='relu'))\n",
    "model.add(Dropout(rate=0.5))\n",
    "model.add(Dense(43, activation='softmax'))"
   ]
  },
  {
   "cell_type": "code",
   "execution_count": 9,
   "metadata": {
    "id": "FytJBVcIWBN4"
   },
   "outputs": [],
   "source": [
    "#Compilation of the model\n",
    "model.compile(loss='categorical_crossentropy', optimizer='adam', metrics=['accuracy'])"
   ]
  },
  {
   "cell_type": "code",
   "execution_count": 10,
   "metadata": {
    "colab": {
     "base_uri": "https://localhost:8080/"
    },
    "id": "d3IAh5GHWL1E",
    "outputId": "315094d6-73ad-4581-d524-646d81df3097"
   },
   "outputs": [
    {
     "name": "stdout",
     "output_type": "stream",
     "text": [
      "Epoch 1/16\n",
      "981/981 [==============================] - 37s 5ms/step - loss: 3.2954 - accuracy: 0.2964 - val_loss: 0.6506 - val_accuracy: 0.8387\n",
      "Epoch 2/16\n",
      "981/981 [==============================] - 4s 4ms/step - loss: 1.0087 - accuracy: 0.7083 - val_loss: 0.3375 - val_accuracy: 0.9018\n",
      "Epoch 3/16\n",
      "981/981 [==============================] - 4s 4ms/step - loss: 0.6317 - accuracy: 0.8123 - val_loss: 0.2017 - val_accuracy: 0.9410\n",
      "Epoch 4/16\n",
      "981/981 [==============================] - 4s 4ms/step - loss: 0.4653 - accuracy: 0.8622 - val_loss: 0.1517 - val_accuracy: 0.9580\n",
      "Epoch 5/16\n",
      "981/981 [==============================] - 4s 4ms/step - loss: 0.4026 - accuracy: 0.8802 - val_loss: 0.1351 - val_accuracy: 0.9611\n",
      "Epoch 6/16\n",
      "981/981 [==============================] - 4s 4ms/step - loss: 0.3542 - accuracy: 0.8924 - val_loss: 0.1725 - val_accuracy: 0.9524\n",
      "Epoch 7/16\n",
      "981/981 [==============================] - 4s 4ms/step - loss: 0.3544 - accuracy: 0.8967 - val_loss: 0.1101 - val_accuracy: 0.9682\n",
      "Epoch 8/16\n",
      "981/981 [==============================] - 4s 4ms/step - loss: 0.3353 - accuracy: 0.9026 - val_loss: 0.1058 - val_accuracy: 0.9690\n",
      "Epoch 9/16\n",
      "981/981 [==============================] - 4s 4ms/step - loss: 0.3039 - accuracy: 0.9101 - val_loss: 0.1080 - val_accuracy: 0.9674\n",
      "Epoch 10/16\n",
      "981/981 [==============================] - 4s 4ms/step - loss: 0.2860 - accuracy: 0.9154 - val_loss: 0.0758 - val_accuracy: 0.9784\n",
      "Epoch 11/16\n",
      "981/981 [==============================] - 4s 4ms/step - loss: 0.2620 - accuracy: 0.9214 - val_loss: 0.1193 - val_accuracy: 0.9653\n",
      "Epoch 12/16\n",
      "981/981 [==============================] - 4s 4ms/step - loss: 0.2928 - accuracy: 0.9170 - val_loss: 0.1102 - val_accuracy: 0.9698\n",
      "Epoch 13/16\n",
      "981/981 [==============================] - 4s 4ms/step - loss: 0.2891 - accuracy: 0.9154 - val_loss: 0.0955 - val_accuracy: 0.9717\n",
      "Epoch 14/16\n",
      "981/981 [==============================] - 4s 4ms/step - loss: 0.2635 - accuracy: 0.9255 - val_loss: 0.0763 - val_accuracy: 0.9783\n",
      "Epoch 15/16\n",
      "981/981 [==============================] - 4s 4ms/step - loss: 0.2403 - accuracy: 0.9318 - val_loss: 0.0774 - val_accuracy: 0.9781\n",
      "Epoch 16/16\n",
      "981/981 [==============================] - 4s 4ms/step - loss: 0.2482 - accuracy: 0.9317 - val_loss: 0.0694 - val_accuracy: 0.9814\n"
     ]
    }
   ],
   "source": [
    "epochs = 16\n",
    "history = model.fit(X_train, y_train, batch_size=32, epochs=epochs, validation_data=(X_test, y_test))"
   ]
  },
  {
   "cell_type": "markdown",
   "metadata": {
    "id": "n-Pte0HfW_Tl"
   },
   "source": [
    "### Saving the model"
   ]
  },
  {
   "cell_type": "code",
   "execution_count": 11,
   "metadata": {
    "id": "NhkHurHHXB1y"
   },
   "outputs": [],
   "source": [
    "model.save(\"my_model.h5\")"
   ]
  },
  {
   "cell_type": "markdown",
   "metadata": {
    "id": "fafNybGYXWOu"
   },
   "source": [
    "### Plotting the graphs for accuracy"
   ]
  },
  {
   "cell_type": "code",
   "execution_count": 12,
   "metadata": {
    "colab": {
     "base_uri": "https://localhost:8080/",
     "height": 376
    },
    "id": "GTQorX61Xayy",
    "outputId": "2c969d5c-4b73-48f5-c355-7cebea21bd56"
   },
   "outputs": [
    {
     "data": {
      "image/png": "[encoded data removed]",
      "text/plain": [
       "<Figure size 576x396 with 1 Axes>"
      ]
     },
     "metadata": {
      "tags": []
     },
     "output_type": "display_data"
    }
   ],
   "source": [
    "plt.style.use('seaborn')\n",
    "plt.figure(0)\n",
    "plt.plot(history.history['accuracy'], label='training accuracy')\n",
    "plt.plot(history.history['val_accuracy'], label='val accuracy')\n",
    "plt.title('Accuracy')\n",
    "plt.xlabel('epochs')\n",
    "plt.ylabel('accuracy')\n",
    "plt.legend()\n",
    "plt.show()"
   ]
  },
  {
   "cell_type": "code",
   "execution_count": 13,
   "metadata": {
    "colab": {
     "base_uri": "https://localhost:8080/",
     "height": 376
    },
    "id": "f5szft8bXtD4",
    "outputId": "b1fe0495-3c0a-49ca-e81c-e2f1274ba221"
   },
   "outputs": [
    {
     "data": {
      "image/png": "[encoded data removed]",
      "text/plain": [
       "<Figure size 576x396 with 1 Axes>"
      ]
     },
     "metadata": {
      "tags": []
     },
     "output_type": "display_data"
    }
   ],
   "source": [
    "plt.figure(1)\n",
    "plt.plot(history.history['loss'], label='training loss')\n",
    "plt.plot(history.history['val_loss'], label='val loss')\n",
    "plt.title('Loss')\n",
    "plt.xlabel('epochs')\n",
    "plt.ylabel('loss')\n",
    "plt.legend()\n",
    "plt.show()"
   ]
  },
  {
   "cell_type": "markdown",
   "metadata": {
    "id": "BwpwbrdBeNKA"
   },
   "source": [
    "## Saving our model for testing"
   ]
  },
  {
   "cell_type": "code",
   "execution_count": 21,
   "metadata": {
    "id": "v4M-yq9qeRqh"
   },
   "outputs": [],
   "source": [
    "model.save('traffic_sign_model.h5') "
   ]
  },
  {
   "cell_type": "code",
   "execution_count": 22,
   "metadata": {
    "colab": {
     "base_uri": "https://localhost:8080/"
    },
    "id": "TwJs6xtveo9A",
    "outputId": "7a65e14c-6de4-4dcd-8a3f-8f0a454516da"
   },
   "outputs": [
    {
     "name": "stdout",
     "output_type": "stream",
     "text": [
      "Model: \"sequential\"\n",
      "_________________________________________________________________\n",
      "Layer (type)                 Output Shape              Param #   \n",
      "=================================================================\n",
      "conv2d (Conv2D)              (None, 26, 26, 32)        2432      \n",
      "_________________________________________________________________\n",
      "conv2d_1 (Conv2D)            (None, 22, 22, 32)        25632     \n",
      "_________________________________________________________________\n",
      "max_pooling2d (MaxPooling2D) (None, 11, 11, 32)        0         \n",
      "_________________________________________________________________\n",
      "dropout (Dropout)            (None, 11, 11, 32)        0         \n",
      "_________________________________________________________________\n",
      "conv2d_2 (Conv2D)            (None, 9, 9, 64)          18496     \n",
      "_________________________________________________________________\n",
      "conv2d_3 (Conv2D)            (None, 7, 7, 64)          36928     \n",
      "_________________________________________________________________\n",
      "max_pooling2d_1 (MaxPooling2 (None, 3, 3, 64)          0         \n",
      "_________________________________________________________________\n",
      "dropout_1 (Dropout)          (None, 3, 3, 64)          0         \n",
      "_________________________________________________________________\n",
      "flatten (Flatten)            (None, 576)               0         \n",
      "_________________________________________________________________\n",
      "dense (Dense)                (None, 256)               147712    \n",
      "_________________________________________________________________\n",
      "dropout_2 (Dropout)          (None, 256)               0         \n",
      "_________________________________________________________________\n",
      "dense_1 (Dense)              (None, 43)                11051     \n",
      "=================================================================\n",
      "Total params: 242,251\n",
      "Trainable params: 242,251\n",
      "Non-trainable params: 0\n",
      "_________________________________________________________________\n"
     ]
    }
   ],
   "source": [
    "model.summary()"
   ]
  },
  {
   "cell_type": "code",
   "execution_count": null,
   "metadata": {
    "id": "PM7i9oNpj2qU"
   },
   "outputs": [],
   "source": []
  }
 ],
 "metadata": {
  "accelerator": "GPU",
  "colab": {
   "name": "traffic_sign.ipynb",
   "provenance": []
  },
  "kernelspec": {
   "display_name": "Python 3",
   "language": "python",
   "name": "python3"
  },
  "language_info": {
   "codemirror_mode": {
    "name": "ipython",
    "version": 3
   },
   "file_extension": ".py",
   "mimetype": "text/x-python",
   "name": "python",
   "nbconvert_exporter": "python",
   "pygments_lexer": "ipython3",
   "version": "3.8.5"
  }
 },
 "nbformat": 4,
 "nbformat_minor": 1
}
